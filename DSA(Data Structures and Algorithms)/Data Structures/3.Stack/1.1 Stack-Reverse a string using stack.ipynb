{
 "cells": [
  {
   "cell_type": "markdown",
   "metadata": {},
   "source": [
    "Write a function in python that can reverse a string using stack data structure\n",
    "\n",
    "Reverse_string(\"We will conquere COVID-19\") should return \"91-DIVOC ereuqnoc lliw eW\""
   ]
  },
  {
   "cell_type": "code",
   "execution_count": 1,
   "metadata": {},
   "outputs": [],
   "source": [
    "from collections import deque\n"
   ]
  },
  {
   "cell_type": "code",
   "execution_count": 2,
   "metadata": {},
   "outputs": [],
   "source": [
    "def reverse_string(string):\n",
    "    stack1=deque()\n",
    "    stack2=deque()\n",
    "    for i in string:\n",
    "        stack1.append(i)\n",
    "    for i in range(len(stack1)):\n",
    "        stack2.append(stack1.pop())\n",
    "    joined_list=''.join(stack2)#converting our list back to a string using join method\n",
    "    print(f'Reversed string:\\n{joined_list}')\n",
    "\n",
    "    "
   ]
  },
  {
   "cell_type": "code",
   "execution_count": 3,
   "metadata": {},
   "outputs": [
    {
     "name": "stdout",
     "output_type": "stream",
     "text": [
      "Reversed string:\n",
      "91-DIVOC ereuqnoc lliw eW\n"
     ]
    }
   ],
   "source": [
    "reverse_string(\"We will conquere COVID-19\")"
   ]
  }
 ],
 "metadata": {
  "kernelspec": {
   "display_name": "Python 3",
   "language": "python",
   "name": "python3"
  },
  "language_info": {
   "codemirror_mode": {
    "name": "ipython",
    "version": 3
   },
   "file_extension": ".py",
   "mimetype": "text/x-python",
   "name": "python",
   "nbconvert_exporter": "python",
   "pygments_lexer": "ipython3",
   "version": "3.12.4"
  }
 },
 "nbformat": 4,
 "nbformat_minor": 2
}
