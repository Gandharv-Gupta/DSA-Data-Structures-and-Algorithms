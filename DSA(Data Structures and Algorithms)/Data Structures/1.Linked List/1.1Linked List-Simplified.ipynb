{
 "cells": [
  {
   "cell_type": "markdown",
   "metadata": {},
   "source": [
    "# Linked List"
   ]
  },
  {
   "cell_type": "markdown",
   "metadata": {},
   "source": [
    "## 1.Simple implementation:"
   ]
  },
  {
   "cell_type": "code",
   "execution_count": 1,
   "metadata": {},
   "outputs": [
    {
     "name": "stdout",
     "output_type": "stream",
     "text": [
      "11-->22-->33-->END\n"
     ]
    }
   ],
   "source": [
    "class node:\n",
    "    def __init__(self,data,next=None):\n",
    "        self.data=data\n",
    "        self.next=next\n",
    "    \n",
    "node1=node(11)\n",
    "node2=node(22)\n",
    "node3=node(33)\n",
    "\n",
    "node1.next=node2\n",
    "node2.next=node3\n",
    "\n",
    "current_node=node1\n",
    "while True:\n",
    "    print(f'{current_node.data}-->',end='')#end='' prevents the print function to print a new line everytime it loops\n",
    "\n",
    "    if current_node.next is None:\n",
    "        print('END')\n",
    "        break\n",
    "\n",
    "    current_node=current_node.next\n",
    "  \n",
    "        "
   ]
  },
  {
   "cell_type": "code",
   "execution_count": null,
   "metadata": {},
   "outputs": [],
   "source": []
  }
 ],
 "metadata": {
  "kernelspec": {
   "display_name": "Python 3",
   "language": "python",
   "name": "python3"
  },
  "language_info": {
   "codemirror_mode": {
    "name": "ipython",
    "version": 3
   },
   "file_extension": ".py",
   "mimetype": "text/x-python",
   "name": "python",
   "nbconvert_exporter": "python",
   "pygments_lexer": "ipython3",
   "version": "3.12.4"
  }
 },
 "nbformat": 4,
 "nbformat_minor": 2
}
